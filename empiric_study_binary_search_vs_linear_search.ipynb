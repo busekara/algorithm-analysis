{
 "cells": [
  {
   "cell_type": "code",
   "execution_count": 19,
   "metadata": {},
   "outputs": [],
   "source": [
    "import random"
   ]
  },
  {
   "cell_type": "code",
   "execution_count": 20,
   "metadata": {},
   "outputs": [
    {
     "data": {
      "text/plain": [
       "[-3, 3, 2, 4, -2, 1, 0, -1, 0, 5]"
      ]
     },
     "execution_count": 20,
     "metadata": {},
     "output_type": "execute_result"
    }
   ],
   "source": [
    "def get_n_random_numbers(n=10,min_=-5,max_=5):\n",
    "    numbers=[]    \n",
    "    for i in range(n):        \n",
    "        numbers.append(random.randint(min_,max_))    \n",
    "    return numbers    \n",
    "get_n_random_numbers()"
   ]
  },
  {
   "cell_type": "code",
   "execution_count": 21,
   "metadata": {},
   "outputs": [],
   "source": [
    "def my_linear_search(my_list,item_search): #complexity=O(n)\n",
    "    found=(-1,-1)   # default, eğer listede yoksa     \n",
    "    n=len(my_list)    \n",
    "    for indis in range(n):        \n",
    "        if my_list[indis]==item_search:            \n",
    "            found=(my_list[indis],indis)   # listede bulundu, return bulunn sayı, indisi             \n",
    "            break # uncomment for last found   # break olmazsa best case worst case olmaz,break olursa O(1),O(n) olabilir \n",
    "    return found"
   ]
  },
  {
   "cell_type": "code",
   "execution_count": 22,
   "metadata": {},
   "outputs": [],
   "source": [
    "def my_experimental_study_linear(iterNum=50):\n",
    "    \n",
    "    cost=[]\n",
    "    x_low=-100\n",
    "    x_high=100\n",
    "    array_size=40\n",
    "    print('Array size : ',array_size)\n",
    "    for iter in range(iterNum):\n",
    "        my_list=get_n_random_numbers(array_size,x_low,x_high)\n",
    "        my_search_item=get_n_random_numbers(1,x_low,x_high)\n",
    "        my_search_item=my_search_item[0]\n",
    "        \n",
    "        result=my_linear_search(my_list,my_search_item)\n",
    "        if(result[1]==-1):\n",
    "            cost.append(array_size)\n",
    "        else:\n",
    "            cost.append(result[1])\n",
    "        print(result)\n",
    "    return cost"
   ]
  },
  {
   "cell_type": "code",
   "execution_count": 23,
   "metadata": {},
   "outputs": [
    {
     "name": "stdout",
     "output_type": "stream",
     "text": [
      "Array size :  40\n",
      "(-1, -1)\n",
      "(-1, -1)\n",
      "(-1, -1)\n",
      "(-1, -1)\n",
      "(-1, -1)\n",
      "(-1, -1)\n",
      "(-1, -1)\n",
      "(17, 35)\n",
      "(-16, 12)\n",
      "(-1, -1)\n",
      "(-1, -1)\n",
      "(-1, -1)\n",
      "(-1, -1)\n",
      "(-1, -1)\n",
      "(-1, -1)\n",
      "(-1, -1)\n",
      "(58, 17)\n",
      "(-1, -1)\n",
      "(-1, -1)\n",
      "(-1, -1)\n",
      "(-1, -1)\n",
      "(-1, -1)\n",
      "(-1, -1)\n",
      "(-40, 29)\n",
      "(18, 38)\n",
      "(-1, -1)\n",
      "(-1, -1)\n",
      "(-1, -1)\n",
      "(-1, -1)\n",
      "(-1, -1)\n",
      "(-1, -1)\n",
      "(-73, 25)\n",
      "(-1, -1)\n",
      "(-1, -1)\n",
      "(-1, -1)\n",
      "(-29, 36)\n",
      "(-1, -1)\n",
      "(-1, -1)\n",
      "(-1, -1)\n",
      "(-1, -1)\n",
      "(-1, -1)\n",
      "(73, 38)\n",
      "(-1, -1)\n",
      "(63, 28)\n",
      "(-1, -1)\n",
      "(-1, -1)\n",
      "(-1, -1)\n",
      "(-1, -1)\n",
      "(-1, -1)\n",
      "(-1, -1)\n"
     ]
    }
   ],
   "source": [
    "c_s_l=my_experimental_study_linear()"
   ]
  },
  {
   "cell_type": "code",
   "execution_count": 24,
   "metadata": {},
   "outputs": [],
   "source": [
    "import matplotlib.pyplot as plt"
   ]
  },
  {
   "cell_type": "code",
   "execution_count": 25,
   "metadata": {},
   "outputs": [
    {
     "data": {
      "text/plain": [
       "[<matplotlib.lines.Line2D at 0x1dea60c9940>]"
      ]
     },
     "execution_count": 25,
     "metadata": {},
     "output_type": "execute_result"
    },
    {
     "data": {
      "image/png": "[encoded data removed]",
      "text/plain": [
       "<Figure size 432x288 with 1 Axes>"
      ]
     },
     "metadata": {
      "needs_background": "light"
     },
     "output_type": "display_data"
    }
   ],
   "source": [
    "c_s_l\n",
    "plt.plot(c_s_l)"
   ]
  },
  {
   "cell_type": "code",
   "execution_count": 26,
   "metadata": {},
   "outputs": [],
   "source": [
    "def my_binary_search(my_list, item_search):    \n",
    "    found=(-1,-1,0)    \n",
    "    low = 0    \n",
    "    high = len(my_list) - 1\n",
    "    s=0\n",
    "    while low <= high:        \n",
    "        mid = (low + high) // 2\n",
    "        print(low,high,mid)\n",
    "        s=s+1\n",
    "        \n",
    "        if my_list[mid] == item_search:\n",
    "            return my_list[mid],mid,s        \n",
    "        elif my_list[mid] > item_search:            \n",
    "            high = mid - 1        \n",
    "        else:            \n",
    "            low = mid + 1\n",
    "    print(s)\n",
    "    return found[0],found[1],s "
   ]
  },
  {
   "cell_type": "code",
   "execution_count": 27,
   "metadata": {},
   "outputs": [],
   "source": [
    "def my_bubble_sort(my_list):    \n",
    "    n=len(my_list)    \n",
    "    #print(my_list)    \n",
    "    for i in range(n-1,-1,-1):        \n",
    "        for j in range(0,i):            \n",
    "            if not(my_list[j]<my_list[j+1]):                \n",
    "                # print(\"swap işlemi\")                \n",
    "                temp=my_list[j]                \n",
    "                my_list[j]=my_list[j+1]                \n",
    "                my_list[j+1]=temp    \n",
    "    return my_list"
   ]
  },
  {
   "cell_type": "code",
   "execution_count": 28,
   "metadata": {},
   "outputs": [
    {
     "data": {
      "text/plain": [
       "[8, -9, 7, 3]"
      ]
     },
     "execution_count": 28,
     "metadata": {},
     "output_type": "execute_result"
    }
   ],
   "source": [
    "x_low=-10\n",
    "x_high=10\n",
    "array_size=4\n",
    "my_list=get_n_random_numbers(array_size,x_low,x_high)\n",
    "my_list"
   ]
  },
  {
   "cell_type": "code",
   "execution_count": 29,
   "metadata": {},
   "outputs": [
    {
     "data": {
      "text/plain": [
       "[-9, 3, 7, 8]"
      ]
     },
     "execution_count": 29,
     "metadata": {},
     "output_type": "execute_result"
    }
   ],
   "source": [
    "my_list=my_bubble_sort(my_list)\n",
    "my_list"
   ]
  },
  {
   "cell_type": "code",
   "execution_count": 30,
   "metadata": {},
   "outputs": [
    {
     "data": {
      "text/plain": [
       "-4"
      ]
     },
     "execution_count": 30,
     "metadata": {},
     "output_type": "execute_result"
    }
   ],
   "source": [
    "my_search_item=get_n_random_numbers(1,x_low,x_high)\n",
    "my_search_item\n",
    "my_search_item=my_search_item[0]\n",
    "my_search_item"
   ]
  },
  {
   "cell_type": "code",
   "execution_count": 31,
   "metadata": {},
   "outputs": [
    {
     "name": "stdout",
     "output_type": "stream",
     "text": [
      "0 3 1\n",
      "0 0 0\n",
      "2\n"
     ]
    },
    {
     "data": {
      "text/plain": [
       "(-1, -1, 2)"
      ]
     },
     "execution_count": 31,
     "metadata": {},
     "output_type": "execute_result"
    }
   ],
   "source": [
    "my_binary_search(my_list,my_search_item)"
   ]
  },
  {
   "cell_type": "code",
   "execution_count": 32,
   "metadata": {},
   "outputs": [],
   "source": [
    "def my_experimental_study_binary(iterNum=50):\n",
    "    \n",
    "    cost=[]\n",
    "    x_low=-100\n",
    "    x_high=100\n",
    "    array_size=40\n",
    "    print('Array size : ',array_size)\n",
    "    for iter in range(iterNum):\n",
    "        my_list=get_n_random_numbers(array_size,x_low,x_high)\n",
    "        my_list=my_bubble_sort(my_list)\n",
    "        \n",
    "        my_search_item=get_n_random_numbers(1,x_low,x_high)\n",
    "        my_search_item=my_search_item[0]\n",
    "        \n",
    "        result=my_binary_search(my_list,my_search_item)\n",
    "        cost.append(result[2])\n",
    "        \n",
    "        #        result=my_binary_search(my_list,my_search_item)\n",
    "        #        if(result[1]==-1):\n",
    "        #            cost.append(array_size)\n",
    "        #        else:\n",
    "        #            cost.append(result[1])\n",
    "        #        print(result)\n",
    "    return cost"
   ]
  },
  {
   "cell_type": "code",
   "execution_count": 33,
   "metadata": {},
   "outputs": [
    {
     "name": "stdout",
     "output_type": "stream",
     "text": [
      "Array size :  40\n",
      "0 39 19\n",
      "20 39 29\n",
      "20 28 24\n",
      "20 23 21\n",
      "20 20 20\n",
      "5\n",
      "0 39 19\n",
      "20 39 29\n",
      "30 39 34\n",
      "30 33 31\n",
      "32 33 32\n",
      "5\n",
      "0 39 19\n",
      "20 39 29\n",
      "20 28 24\n",
      "25 28 26\n",
      "0 39 19\n",
      "0 18 9\n",
      "10 18 14\n",
      "10 13 11\n",
      "12 13 12\n",
      "13 13 13\n",
      "6\n",
      "0 39 19\n",
      "20 39 29\n",
      "20 28 24\n",
      "25 28 26\n",
      "25 25 25\n",
      "5\n",
      "0 39 19\n",
      "20 39 29\n",
      "20 28 24\n",
      "25 28 26\n",
      "27 28 27\n",
      "5\n",
      "0 39 19\n",
      "20 39 29\n",
      "30 39 34\n",
      "35 39 37\n",
      "35 36 35\n",
      "36 36 36\n",
      "6\n",
      "0 39 19\n",
      "0 18 9\n",
      "10 18 14\n",
      "15 18 16\n",
      "15 15 15\n",
      "5\n",
      "0 39 19\n",
      "0 18 9\n",
      "0 8 4\n",
      "5 8 6\n",
      "7 8 7\n",
      "8 8 8\n",
      "0 39 19\n",
      "0 18 9\n",
      "10 18 14\n",
      "10 13 11\n",
      "12 13 12\n",
      "13 13 13\n",
      "6\n",
      "0 39 19\n",
      "0 18 9\n",
      "10 18 14\n",
      "15 18 16\n",
      "17 18 17\n",
      "18 18 18\n",
      "0 39 19\n",
      "0 18 9\n",
      "0 8 4\n",
      "0 3 1\n",
      "0 0 0\n",
      "5\n",
      "0 39 19\n",
      "20 39 29\n",
      "30 39 34\n",
      "30 33 31\n",
      "32 33 32\n",
      "5\n",
      "0 39 19\n",
      "20 39 29\n",
      "30 39 34\n",
      "30 33 31\n",
      "32 33 32\n",
      "5\n",
      "0 39 19\n",
      "20 39 29\n",
      "30 39 34\n",
      "30 33 31\n",
      "32 33 32\n",
      "33 33 33\n",
      "6\n",
      "0 39 19\n",
      "0 18 9\n",
      "10 18 14\n",
      "10 13 11\n",
      "10 10 10\n",
      "5\n",
      "0 39 19\n",
      "0 18 9\n",
      "0 8 4\n",
      "0 3 1\n",
      "2 3 2\n",
      "5\n",
      "0 39 19\n",
      "0 18 9\n",
      "10 18 14\n",
      "10 13 11\n",
      "10 10 10\n",
      "0 39 19\n",
      "0 18 9\n",
      "0 8 4\n",
      "5 8 6\n",
      "5 5 5\n",
      "5\n",
      "0 39 19\n",
      "20 39 29\n",
      "30 39 34\n",
      "30 33 31\n",
      "32 33 32\n",
      "33 33 33\n",
      "0 39 19\n",
      "20 39 29\n",
      "30 39 34\n",
      "30 33 31\n",
      "32 33 32\n",
      "33 33 33\n",
      "0 39 19\n",
      "0 18 9\n",
      "0 8 4\n",
      "0 3 1\n",
      "0 0 0\n",
      "5\n",
      "0 39 19\n",
      "0 18 9\n",
      "0 8 4\n",
      "5 8 6\n",
      "7 8 7\n",
      "8 8 8\n",
      "6\n",
      "0 39 19\n",
      "20 39 29\n",
      "30 39 34\n",
      "35 39 37\n",
      "38 39 38\n",
      "39 39 39\n",
      "6\n",
      "0 39 19\n",
      "0 18 9\n",
      "10 18 14\n",
      "10 13 11\n",
      "10 10 10\n",
      "5\n",
      "0 39 19\n",
      "20 39 29\n",
      "20 28 24\n",
      "20 23 21\n",
      "20 20 20\n",
      "0 39 19\n",
      "20 39 29\n",
      "20 28 24\n",
      "20 23 21\n",
      "22 23 22\n",
      "5\n",
      "0 39 19\n",
      "20 39 29\n",
      "30 39 34\n",
      "35 39 37\n",
      "38 39 38\n",
      "5\n",
      "0 39 19\n",
      "0 18 9\n",
      "10 18 14\n",
      "10 13 11\n",
      "12 13 12\n",
      "5\n",
      "0 39 19\n",
      "20 39 29\n",
      "30 39 34\n",
      "35 39 37\n",
      "35 36 35\n",
      "5\n",
      "0 39 19\n",
      "0 18 9\n",
      "10 18 14\n",
      "15 18 16\n",
      "15 15 15\n",
      "5\n",
      "0 39 19\n",
      "0 18 9\n",
      "0 8 4\n",
      "5 8 6\n",
      "7 8 7\n",
      "8 8 8\n",
      "6\n",
      "0 39 19\n",
      "0 18 9\n",
      "10 18 14\n",
      "15 18 16\n",
      "17 18 17\n",
      "5\n",
      "0 39 19\n",
      "0 39 19\n",
      "0 18 9\n",
      "0 8 4\n",
      "0 3 1\n",
      "2 3 2\n",
      "3 3 3\n",
      "6\n",
      "0 39 19\n",
      "20 39 29\n",
      "30 39 34\n",
      "30 33 31\n",
      "32 33 32\n",
      "5\n",
      "0 39 19\n",
      "0 18 9\n",
      "0 8 4\n",
      "5 8 6\n",
      "5 5 5\n",
      "5\n",
      "0 39 19\n",
      "20 39 29\n",
      "30 39 34\n",
      "30 33 31\n",
      "32 33 32\n",
      "33 33 33\n",
      "6\n",
      "0 39 19\n",
      "20 39 29\n",
      "30 39 34\n",
      "35 39 37\n",
      "35 36 35\n",
      "36 36 36\n",
      "6\n",
      "0 39 19\n",
      "20 39 29\n",
      "20 28 24\n",
      "25 28 26\n",
      "27 28 27\n",
      "28 28 28\n",
      "6\n",
      "0 39 19\n",
      "20 39 29\n",
      "20 28 24\n",
      "20 23 21\n",
      "20 20 20\n",
      "5\n",
      "0 39 19\n",
      "20 39 29\n",
      "20 28 24\n",
      "25 28 26\n",
      "27 28 27\n",
      "28 28 28\n",
      "6\n",
      "0 39 19\n",
      "20 39 29\n",
      "20 28 24\n",
      "20 23 21\n",
      "20 20 20\n",
      "5\n",
      "0 39 19\n",
      "20 39 29\n",
      "20 28 24\n",
      "20 23 21\n",
      "20 20 20\n",
      "5\n",
      "0 39 19\n",
      "0 18 9\n",
      "0 8 4\n",
      "5 8 6\n",
      "5 5 5\n",
      "5\n",
      "0 39 19\n",
      "0 18 9\n",
      "10 18 14\n",
      "10 13 11\n",
      "10 10 10\n",
      "5\n",
      "0 39 19\n",
      "20 39 29\n",
      "30 39 34\n",
      "35 39 37\n",
      "38 39 38\n",
      "39 39 39\n",
      "6\n",
      "0 39 19\n",
      "20 39 29\n",
      "20 28 24\n",
      "20 23 21\n",
      "20 20 20\n",
      "5\n",
      "0 39 19\n",
      "20 39 29\n",
      "30 39 34\n",
      "35 39 37\n",
      "35 36 35\n",
      "36 36 36\n",
      "6\n",
      "0 39 19\n",
      "0 18 9\n",
      "0 8 4\n",
      "0 3 1\n",
      "2 3 2\n"
     ]
    }
   ],
   "source": [
    "c_s_b=my_experimental_study_binary()"
   ]
  },
  {
   "cell_type": "code",
   "execution_count": 34,
   "metadata": {},
   "outputs": [
    {
     "name": "stdout",
     "output_type": "stream",
     "text": [
      "Array size :  40\n",
      "(46, 38)\n",
      "(-1, -1)\n",
      "(-57, 5)\n",
      "(-1, -1)\n",
      "(-1, -1)\n",
      "(-1, -1)\n",
      "(6, 34)\n",
      "(-1, -1)\n",
      "(84, 8)\n",
      "(-1, -1)\n",
      "(-1, -1)\n",
      "(-81, 17)\n",
      "(-1, -1)\n",
      "(-1, -1)\n",
      "(-1, -1)\n",
      "(-1, -1)\n",
      "(-1, -1)\n",
      "(-1, -1)\n",
      "(-1, -1)\n",
      "(-1, -1)\n",
      "(-1, -1)\n",
      "(-1, -1)\n",
      "(-1, -1)\n",
      "(-1, -1)\n",
      "(-1, -1)\n",
      "(-1, -1)\n",
      "(-1, -1)\n",
      "(-1, -1)\n",
      "(-1, -1)\n",
      "(-1, -1)\n",
      "(-1, -1)\n",
      "(-1, -1)\n",
      "(-34, 17)\n",
      "(-1, -1)\n",
      "(-1, -1)\n",
      "(-1, -1)\n",
      "(-1, -1)\n",
      "(-97, 34)\n",
      "(-1, -1)\n",
      "(-1, -1)\n",
      "(-1, -1)\n",
      "(-1, -1)\n",
      "(-1, -1)\n",
      "(-1, -1)\n",
      "(-1, -1)\n",
      "(-1, -1)\n",
      "(-1, -1)\n",
      "(-1, -1)\n",
      "(-50, 34)\n",
      "(-1, -1)\n"
     ]
    }
   ],
   "source": [
    "c_s_l=my_experimental_study_linear()"
   ]
  },
  {
   "cell_type": "code",
   "execution_count": 35,
   "metadata": {},
   "outputs": [
    {
     "data": {
      "image/png": "[encoded data removed]",
      "text/plain": [
       "<Figure size 432x288 with 2 Axes>"
      ]
     },
     "metadata": {
      "needs_background": "light"
     },
     "output_type": "display_data"
    }
   ],
   "source": [
    "plt.subplot(1,2,1), plt.plot(c_s_b)\n",
    "plt.subplot(1,2,2), plt.plot(c_s_l)\n",
    "plt.show()"
   ]
  },
  {
   "cell_type": "code",
   "execution_count": null,
   "metadata": {},
   "outputs": [],
   "source": []
  }
 ],
 "metadata": {
  "kernelspec": {
   "display_name": "Python 3",
   "language": "python",
   "name": "python3"
  },
  "language_info": {
   "codemirror_mode": {
    "name": "ipython",
    "version": 3
   },
   "file_extension": ".py",
   "mimetype": "text/x-python",
   "name": "python",
   "nbconvert_exporter": "python",
   "pygments_lexer": "ipython3",
   "version": "3.5.4"
  }
 },
 "nbformat": 4,
 "nbformat_minor": 4
}
